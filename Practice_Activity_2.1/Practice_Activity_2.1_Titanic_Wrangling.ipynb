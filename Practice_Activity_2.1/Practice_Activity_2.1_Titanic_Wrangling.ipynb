{
  "cells": [
    {
      "cell_type": "raw",
      "metadata": {
        "vscode": {
          "languageId": "raw"
        }
      },
      "source": [
        "---\n",
        "title: \"Practice Activity 2.1: Titanic_Wrangling\"\n",
        "author: \"Paige Tsai\"\n",
        "format:\n",
        "    html:\n",
        "        toc: true\n",
        "        code-fold: true\n",
        "        echo: true\n",
        "theme: cosmo\n",
        "embed-resources: true\n",
        "---"
      ]
    },
    {
      "cell_type": "markdown",
      "metadata": {
        "id": "QWpPySbzYEIV"
      },
      "source": [
        "# Titanic Wrangling\n",
        "\n",
        "In this practice activity you'll continue to work with the titanic dataset in ways that flex what you've learned about both data wrangling and data visualization."
      ]
    },
    {
      "cell_type": "code",
      "execution_count": 28,
      "metadata": {
        "colab": {
          "base_uri": "https://localhost:8080/",
          "height": 423
        },
        "id": "Nr6w8bVCf_NM",
        "outputId": "f71a089d-ec76-4f7a-f00b-75889b6e3c8b"
      },
      "outputs": [],
      "source": [
        "# Import the titanic dataset here\n",
        "import numpy as np\n",
        "import pandas as pd\n",
        "from plotnine import *\n",
        "\n",
        "data_dir = \"https://dlsun.github.io/pods/data/\"\n",
        "df_titanic = pd.read_csv(data_dir + \"titanic.csv\")"
      ]
    },
    {
      "cell_type": "markdown",
      "metadata": {
        "id": "9UgZD6VFYa96"
      },
      "source": [
        "## 1. Filter the data to include passengers only. Calculate the joint distribution (cross-tab) between a passenger's class and where they embarked."
      ]
    },
    {
      "cell_type": "code",
      "execution_count": 29,
      "metadata": {
        "colab": {
          "base_uri": "https://localhost:8080/"
        },
        "id": "7SUvf3t-Q1ah",
        "outputId": "34f86b3f-ca37-47c7-c12e-cadf0b817047"
      },
      "outputs": [],
      "source": [
        "%%capture\n",
        "df_titanic[\"class\"].unique()"
      ]
    },
    {
      "cell_type": "code",
      "execution_count": 30,
      "metadata": {
        "colab": {
          "base_uri": "https://localhost:8080/",
          "height": 175
        },
        "id": "TBthOzDLgBif",
        "outputId": "378cef75-e446-4031-ec8e-d24466015faa"
      },
      "outputs": [
        {
          "data": {
            "text/html": [
              "<div>\n",
              "<style scoped>\n",
              "    .dataframe tbody tr th:only-of-type {\n",
              "        vertical-align: middle;\n",
              "    }\n",
              "\n",
              "    .dataframe tbody tr th {\n",
              "        vertical-align: top;\n",
              "    }\n",
              "\n",
              "    .dataframe thead th {\n",
              "        text-align: right;\n",
              "    }\n",
              "</style>\n",
              "<table border=\"1\" class=\"dataframe\">\n",
              "  <thead>\n",
              "    <tr style=\"text-align: right;\">\n",
              "      <th>embarked</th>\n",
              "      <th>B</th>\n",
              "      <th>C</th>\n",
              "      <th>Q</th>\n",
              "      <th>S</th>\n",
              "    </tr>\n",
              "    <tr>\n",
              "      <th>class</th>\n",
              "      <th></th>\n",
              "      <th></th>\n",
              "      <th></th>\n",
              "      <th></th>\n",
              "    </tr>\n",
              "  </thead>\n",
              "  <tbody>\n",
              "    <tr>\n",
              "      <th>1st</th>\n",
              "      <td>0.002278</td>\n",
              "      <td>0.108580</td>\n",
              "      <td>0.002278</td>\n",
              "      <td>0.132878</td>\n",
              "    </tr>\n",
              "    <tr>\n",
              "      <th>2nd</th>\n",
              "      <td>0.004556</td>\n",
              "      <td>0.019742</td>\n",
              "      <td>0.005315</td>\n",
              "      <td>0.186029</td>\n",
              "    </tr>\n",
              "    <tr>\n",
              "      <th>3rd</th>\n",
              "      <td>0.000000</td>\n",
              "      <td>0.077449</td>\n",
              "      <td>0.085801</td>\n",
              "      <td>0.375095</td>\n",
              "    </tr>\n",
              "  </tbody>\n",
              "</table>\n",
              "</div>"
            ],
            "text/plain": [
              "embarked         B         C         Q         S\n",
              "class                                           \n",
              "1st       0.002278  0.108580  0.002278  0.132878\n",
              "2nd       0.004556  0.019742  0.005315  0.186029\n",
              "3rd       0.000000  0.077449  0.085801  0.375095"
            ]
          },
          "execution_count": null,
          "metadata": {},
          "output_type": "execute_result"
        }
      ],
      "source": [
        "df_titanic[\"type\"] = df_titanic[\"class\"].map({\n",
        "    \"1st\": \"passenger\",\n",
        "    \"2nd\": \"passenger\",\n",
        "    \"3rd\": \"passenger\",\n",
        "    \"victualling crew\": \"crew\",\n",
        "    \"engineering crew\": \"crew\",\n",
        "    \"deck crew\": \"crew\",\n",
        "    \"restaurant staff\": \"crew\"\n",
        "})\n",
        "df_titanic_passenger = df_titanic[df_titanic[\"type\"] == \"passenger\"]\n",
        "\n",
        "joint = pd.crosstab(df_titanic_passenger[\"class\"], df_titanic_passenger[\"embarked\"],normalize= True)\n",
        "joint"
      ]
    },
    {
      "cell_type": "markdown",
      "metadata": {
        "id": "3CRaJLSyYm4d"
      },
      "source": [
        "## 2. Using the joint distribution that calculated above, calculate the following:\n",
        "\n",
        "* the conditional distribution of their class given where they embarked\n",
        "* the conditional distribution of where they embarked given their class\n",
        "\n",
        "Use the conditional distributions that you calculate to answer the following quesitons:\n",
        "\n",
        "* What proportion of 3rd class passengers embarked at Southampton?  \n",
        "  0.540481\n",
        "* What proportion of Southampton passengers were in 3rd class?  \n",
        "  0.696756"
      ]
    },
    {
      "cell_type": "markdown",
      "metadata": {},
      "source": [
        "The conditional distribution of their class given where they embarked"
      ]
    },
    {
      "cell_type": "code",
      "execution_count": 31,
      "metadata": {
        "colab": {
          "base_uri": "https://localhost:8080/",
          "height": 175
        },
        "id": "TfTGidLIv1k0",
        "outputId": "41e39009-1620-49ca-d0b8-3c642e4eb169"
      },
      "outputs": [
        {
          "data": {
            "text/html": [
              "<div>\n",
              "<style scoped>\n",
              "    .dataframe tbody tr th:only-of-type {\n",
              "        vertical-align: middle;\n",
              "    }\n",
              "\n",
              "    .dataframe tbody tr th {\n",
              "        vertical-align: top;\n",
              "    }\n",
              "\n",
              "    .dataframe thead th {\n",
              "        text-align: right;\n",
              "    }\n",
              "</style>\n",
              "<table border=\"1\" class=\"dataframe\">\n",
              "  <thead>\n",
              "    <tr style=\"text-align: right;\">\n",
              "      <th>embarked</th>\n",
              "      <th>B</th>\n",
              "      <th>C</th>\n",
              "      <th>Q</th>\n",
              "      <th>S</th>\n",
              "    </tr>\n",
              "    <tr>\n",
              "      <th>class</th>\n",
              "      <th></th>\n",
              "      <th></th>\n",
              "      <th></th>\n",
              "      <th></th>\n",
              "    </tr>\n",
              "  </thead>\n",
              "  <tbody>\n",
              "    <tr>\n",
              "      <th>1st</th>\n",
              "      <td>0.333333</td>\n",
              "      <td>0.527675</td>\n",
              "      <td>0.024390</td>\n",
              "      <td>0.191466</td>\n",
              "    </tr>\n",
              "    <tr>\n",
              "      <th>2nd</th>\n",
              "      <td>0.666667</td>\n",
              "      <td>0.095941</td>\n",
              "      <td>0.056911</td>\n",
              "      <td>0.268053</td>\n",
              "    </tr>\n",
              "    <tr>\n",
              "      <th>3rd</th>\n",
              "      <td>0.000000</td>\n",
              "      <td>0.376384</td>\n",
              "      <td>0.918699</td>\n",
              "      <td>0.540481</td>\n",
              "    </tr>\n",
              "  </tbody>\n",
              "</table>\n",
              "</div>"
            ],
            "text/plain": [
              "embarked         B         C         Q         S\n",
              "class                                           \n",
              "1st       0.333333  0.527675  0.024390  0.191466\n",
              "2nd       0.666667  0.095941  0.056911  0.268053\n",
              "3rd       0.000000  0.376384  0.918699  0.540481"
            ]
          },
          "execution_count": null,
          "metadata": {},
          "output_type": "execute_result"
        }
      ],
      "source": [
        "# sum(axis=0) a series with the summary of every column\n",
        "# axis=0: by column(vertical), axis=1: by row(horizontal)\n",
        "# a.div(b) = a/b\n",
        "# div(joint.sum(axis=0), axis=1): joint.sum(axis=0) is the denominator, axis=1 means divide along horizontal(in each column)\n",
        "\n",
        "cond_embarked = joint.div(joint.sum(axis=0), axis=1)\n",
        "cond_embarked\n"
      ]
    },
    {
      "cell_type": "markdown",
      "metadata": {},
      "source": [
        "The conditional distribution of where they embarked given their class"
      ]
    },
    {
      "cell_type": "code",
      "execution_count": 32,
      "metadata": {
        "colab": {
          "base_uri": "https://localhost:8080/",
          "height": 175
        },
        "id": "pAdfZORyZ737",
        "outputId": "9eb58e36-931c-4a5a-8b80-b778314aa747"
      },
      "outputs": [
        {
          "data": {
            "text/html": [
              "<div>\n",
              "<style scoped>\n",
              "    .dataframe tbody tr th:only-of-type {\n",
              "        vertical-align: middle;\n",
              "    }\n",
              "\n",
              "    .dataframe tbody tr th {\n",
              "        vertical-align: top;\n",
              "    }\n",
              "\n",
              "    .dataframe thead th {\n",
              "        text-align: right;\n",
              "    }\n",
              "</style>\n",
              "<table border=\"1\" class=\"dataframe\">\n",
              "  <thead>\n",
              "    <tr style=\"text-align: right;\">\n",
              "      <th>embarked</th>\n",
              "      <th>B</th>\n",
              "      <th>C</th>\n",
              "      <th>Q</th>\n",
              "      <th>S</th>\n",
              "    </tr>\n",
              "    <tr>\n",
              "      <th>class</th>\n",
              "      <th></th>\n",
              "      <th></th>\n",
              "      <th></th>\n",
              "      <th></th>\n",
              "    </tr>\n",
              "  </thead>\n",
              "  <tbody>\n",
              "    <tr>\n",
              "      <th>1st</th>\n",
              "      <td>0.009259</td>\n",
              "      <td>0.441358</td>\n",
              "      <td>0.009259</td>\n",
              "      <td>0.540123</td>\n",
              "    </tr>\n",
              "    <tr>\n",
              "      <th>2nd</th>\n",
              "      <td>0.021127</td>\n",
              "      <td>0.091549</td>\n",
              "      <td>0.024648</td>\n",
              "      <td>0.862676</td>\n",
              "    </tr>\n",
              "    <tr>\n",
              "      <th>3rd</th>\n",
              "      <td>0.000000</td>\n",
              "      <td>0.143865</td>\n",
              "      <td>0.159379</td>\n",
              "      <td>0.696756</td>\n",
              "    </tr>\n",
              "  </tbody>\n",
              "</table>\n",
              "</div>"
            ],
            "text/plain": [
              "embarked         B         C         Q         S\n",
              "class                                           \n",
              "1st       0.009259  0.441358  0.009259  0.540123\n",
              "2nd       0.021127  0.091549  0.024648  0.862676\n",
              "3rd       0.000000  0.143865  0.159379  0.696756"
            ]
          },
          "execution_count": null,
          "metadata": {},
          "output_type": "execute_result"
        }
      ],
      "source": [
        "cond_class = joint.div(joint.sum(axis=1), axis=0)\n",
        "cond_class"
      ]
    },
    {
      "cell_type": "markdown",
      "metadata": {},
      "source": [
        "What proportion of 3rd class passengers embarked at Southampton?"
      ]
    },
    {
      "cell_type": "code",
      "execution_count": 33,
      "metadata": {
        "colab": {
          "base_uri": "https://localhost:8080/",
          "height": 209
        },
        "id": "3Shd6FgbkV5d",
        "outputId": "9ec33f1f-5ef8-4a61-8e21-4a376b93c3a9"
      },
      "outputs": [
        {
          "data": {
            "text/plain": [
              "class\n",
              "3rd    0.540481\n",
              "2nd    0.268053\n",
              "1st    0.191466\n",
              "Name: proportion, dtype: float64"
            ]
          },
          "execution_count": null,
          "metadata": {},
          "output_type": "execute_result"
        }
      ],
      "source": [
        "df_Southampton = df_titanic_passenger[df_titanic_passenger[\"embarked\"] == \"S\"]\n",
        "df_Southampton[\"class\"].value_counts(normalize=True)"
      ]
    },
    {
      "cell_type": "markdown",
      "metadata": {},
      "source": [
        "What proportion of Southampton passengers were in 3rd class?"
      ]
    },
    {
      "cell_type": "code",
      "execution_count": 34,
      "metadata": {
        "colab": {
          "base_uri": "https://localhost:8080/",
          "height": 209
        },
        "id": "PbCZkQpqRpsN",
        "outputId": "25a51d93-2096-4a0b-ee72-7a6250f72b23"
      },
      "outputs": [
        {
          "data": {
            "text/plain": [
              "embarked\n",
              "S    0.696756\n",
              "Q    0.159379\n",
              "C    0.143865\n",
              "Name: proportion, dtype: float64"
            ]
          },
          "execution_count": null,
          "metadata": {},
          "output_type": "execute_result"
        }
      ],
      "source": [
        "df_third = df_titanic_passenger[df_titanic_passenger[\"class\"] == \"3rd\"]\n",
        "df_third[\"embarked\"].value_counts(normalize=True)"
      ]
    },
    {
      "cell_type": "markdown",
      "metadata": {
        "id": "pGUQeeh1ZRfz"
      },
      "source": [
        "## 3. Make a visualization showing the distribution of a passenger's class, given where they embarked.\n",
        "\n",
        "Discuss the pros and cons of using this visualization versus the distributions you calculated before, to answer the previous questions."
      ]
    },
    {
      "cell_type": "markdown",
      "metadata": {
        "id": "pgxo0OGC8Rzo"
      },
      "source": [
        "I used a bar plot to present the distribution of each class within each port of embarkation. The plot includes text labels for each proportion, making it easy to compare the distributions between different ports. However, if the plot does not include proportion text labels, it can be challenging to tell the precise differences in proportions just by looking at the colors."
      ]
    },
    {
      "cell_type": "code",
      "execution_count": 35,
      "metadata": {
        "colab": {
          "base_uri": "https://localhost:8080/",
          "height": 175
        },
        "id": "c8uHxeQt2RDM",
        "outputId": "ebe4ad80-66c4-4680-f7dc-06db62fa63dd"
      },
      "outputs": [],
      "source": [
        "cond_embarked[\"class\"]=cond_embarked.index"
      ]
    },
    {
      "cell_type": "code",
      "execution_count": 36,
      "metadata": {
        "colab": {
          "base_uri": "https://localhost:8080/",
          "height": 425
        },
        "id": "B4jCnop63PEa",
        "outputId": "cf6e7527-45d7-4b8e-af07-e99a7885ef10"
      },
      "outputs": [],
      "source": [
        "cond_embarked = cond_embarked.melt(id_vars=[\"class\"], var_name=\"embarked\", value_name=\"proportion\")"
      ]
    },
    {
      "cell_type": "code",
      "execution_count": 37,
      "metadata": {
        "colab": {
          "base_uri": "https://localhost:8080/",
          "height": 497
        },
        "id": "uDKzXgAV0S2j",
        "outputId": "2b3c7bf4-c9bd-497d-f9a8-ccd2f028bc14"
      },
      "outputs": [
        {
          "data": {
            "image/png": "[encoded data removed]"
          },
          "metadata": {},
          "output_type": "display_data"
        }
      ],
      "source": [
        "(ggplot(cond_embarked, aes(x=\"embarked\", y= \"proportion\", fill=\"class\"))\n",
        " + geom_bar(stat='identity',position=\"fill\")\n",
        " + geom_text(aes(label=(cond_embarked['proportion']*100).round(2).astype(str)+\"%\")\n",
        "                    ,position=position_fill(vjust=0.5)  # Center the text vertically\n",
        "                    )\n",
        " +labs(x=\"Port of Embarkation\", y=\"Proportion\", fill=\"Class\")\n",
        ")"
      ]
    }
  ],
  "metadata": {
    "colab": {
      "provenance": []
    },
    "kernelspec": {
      "display_name": "Python 3",
      "name": "python3"
    },
    "language_info": {
      "name": "python"
    }
  },
  "nbformat": 4,
  "nbformat_minor": 0
}
